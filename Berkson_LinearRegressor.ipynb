{
 "cells": [
  {
   "cell_type": "markdown",
   "metadata": {},
   "source": [
    "# Linear Regressor\n",
    "# Sam Berkson\n",
    "### CPSC 323-01"
   ]
  },
  {
   "cell_type": "code",
   "execution_count": 11,
   "metadata": {},
   "outputs": [],
   "source": [
    "import pandas as pd\n",
    "import matplotlib.pyplot as plt\n",
    "from sklearn.linear_model import LinearRegression\n",
    "from sklearn.model_selection import train_test_split\n",
    "import scipy.stats as stats\n",
    "import numpy as np\n",
    "from datetime import datetime"
   ]
  },
  {
   "cell_type": "markdown",
   "metadata": {},
   "source": [
    "In this project, I will be looking into whether there is a correlation between the length (head to end of the fin) of a fish, and its weight.  To begin, we need to read in our dataset and select our X (weight) and Y (length).  We can then split these two into our training and testing sets using sklearn."
   ]
  },
  {
   "cell_type": "code",
   "execution_count": 12,
   "metadata": {},
   "outputs": [],
   "source": [
    "fish = pd.read_csv('fish.csv')\n",
    "\n",
    "# Select Perch from dataset\n",
    "X = np.array(fish['Weight']).reshape(-1, 1)\n",
    "Y = np.array(fish['Length3']).reshape(-1, 1)\n",
    "X_train, X_test, Y_train, Y_test = train_test_split(X, Y, test_size=0.5, random_state=0)"
   ]
  },
  {
   "cell_type": "markdown",
   "metadata": {},
   "source": [
    "After preparing our training and testing sets, it is time to run it through our model.  I used the base sklearn LinearRegressor, and used datetime to measure the speed of the model's predictions."
   ]
  },
  {
   "cell_type": "code",
   "execution_count": 13,
   "metadata": {},
   "outputs": [
    {
     "name": "stdout",
     "output_type": "stream",
     "text": [
      "Y Predictions:  [[45.78100937]\n",
      " [37.29998687]\n",
      " [39.79440525]\n",
      " [42.78770731]\n",
      " [38.19797748]\n",
      " [37.79887054]\n",
      " [35.30445216]\n",
      " [32.61048031]\n",
      " [35.80333584]\n",
      " [40.07378011]\n",
      " [40.29328893]\n",
      " [44.78324202]\n",
      " [44.28435834]\n",
      " [40.19351219]\n",
      " [44.1845816 ]\n",
      " [34.80556848]\n",
      " [32.61048031]\n",
      " [34.80556848]]\n"
     ]
    }
   ],
   "source": [
    "\n",
    "model = LinearRegression()\n",
    "model.fit(X_train, Y_train)\n",
    "start = datetime.now()\n",
    "y_predicted = model.predict(X_test)\n",
    "end = datetime.now()\n",
    "\n",
    "coef = model.score(X_test, Y_test)\n",
    "prediction_time = end - start\n",
    "print(\"Y Predictions: \", y_predicted)"
   ]
  },
  {
   "cell_type": "markdown",
   "metadata": {},
   "source": [
    "After getting our Y predictions, we can plot our training data and use y_predicted to find the regression line."
   ]
  },
  {
   "cell_type": "code",
   "execution_count": 14,
   "metadata": {},
   "outputs": [
    {
     "data": {
      "image/png": "[encoded data removed]",
      "text/plain": [
       "<Figure size 432x288 with 1 Axes>"
      ]
     },
     "metadata": {
      "needs_background": "light"
     },
     "output_type": "display_data"
    },
    {
     "name": "stdout",
     "output_type": "stream",
     "text": [
      "Coefficient: 0.8040289221432101\n"
     ]
    }
   ],
   "source": [
    "plt.figure()\n",
    "plt.scatter(X_test, Y_test, color = 'b')\n",
    "plt.plot(X_test, y_predicted, color = 'r')\n",
    "plt.show()\n",
    "print('Coefficient:', coef)"
   ]
  },
  {
   "cell_type": "markdown",
   "metadata": {},
   "source": [
    "Just looking at the model, it seems pretty linear.  This is backed up with a .804 coefficient.  It is important to acknowledge that I am working witha  __very small dataset__ with few drastic outliers.  This plays heavily into my model's coefficient.  Now, lets look at some of our summary statistics on our models accuracy."
   ]
  },
  {
   "cell_type": "code",
   "execution_count": 15,
   "metadata": {},
   "outputs": [
    {
     "name": "stdout",
     "output_type": "stream",
     "text": [
      "Precision:  0.2222222222222222\n",
      "Recall:  1.0\n",
      "F1 Score:  0.3636363636363636\n",
      "Model Speed:  0:00:00.000126\n",
      "                 Predicted Positive  Predicted Negative\n",
      "Actual Positive                   4                  14\n",
      "Actual Negative                   0                   0\n"
     ]
    }
   ],
   "source": [
    "TP, FP, TN, FN = 0, 0, 0, 0\n",
    "total = 35\n",
    "\n",
    "for i in range(len(y_predicted)):\n",
    "    if (y_predicted[i] <= (Y_test[1] + 1)) and (y_predicted[i] >= (Y_test[1] - 1)):\n",
    "        TP += 1\n",
    "    else:\n",
    "        FP += 1\n",
    "\n",
    "precision = TP / (TP + FP)\n",
    "recall = TP / (TP+FN)\n",
    "f1 = 2 * (precision * recall) / (precision + recall)\n",
    "\n",
    "# Create confusion Matrix\n",
    "confusion_matrix = pd.DataFrame([[TP, FP], [FN, TN]], index=['Actual Positive', 'Actual Negative'], columns=['Predicted Positive', 'Predicted Negative'])\n",
    "print(\"Precision: \", precision)\n",
    "print(\"Recall: \", recall)\n",
    "print(\"F1 Score: \", f1)\n",
    "print(\"Model Speed: \", prediction_time)\n",
    "print(confusion_matrix)"
   ]
  },
  {
   "cell_type": "markdown",
   "metadata": {},
   "source": [
    "Since we are predicting with a linear regressor, it makes sense that we wouldnt have any true or false negatives. Consequently, our recall score of 1 makes sense following the same logic.  This is reflected in the confusion matrix above.  Our accuracy and F1 are lower than I expected, and continued to go lower as I played around with lowering my test size.  I believe that with a larger dataset, the model would perform much better under traditional analytics (precision and F1).  Using time-to-predict as a metric however, our model performs spectacularly well.  Again, I must point out that my small dataset plays very strongly into this result.  Nonetheless, it is crazy fast."
   ]
  }
 ],
 "metadata": {
  "kernelspec": {
   "display_name": "Python 3.8.8 ('base')",
   "language": "python",
   "name": "python3"
  },
  "language_info": {
   "codemirror_mode": {
    "name": "ipython",
    "version": 3
   },
   "file_extension": ".py",
   "mimetype": "text/x-python",
   "name": "python",
   "nbconvert_exporter": "python",
   "pygments_lexer": "ipython3",
   "version": "3.8.13 (default, Oct 19 2022, 17:54:22) \n[Clang 12.0.0 ]"
  },
  "orig_nbformat": 4,
  "vscode": {
   "interpreter": {
    "hash": "7b639dd3956d1ea949d1be02ef43c9b05c64a6b2f005de22d521c23e3c341cfd"
   }
  }
 },
 "nbformat": 4,
 "nbformat_minor": 2
}
